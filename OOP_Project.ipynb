{
  "nbformat": 4,
  "nbformat_minor": 0,
  "metadata": {
    "colab": {
      "provenance": [],
      "authorship_tag": "ABX9TyNN/t+lQd7kcp0GHInqVfLl",
      "include_colab_link": true
    },
    "kernelspec": {
      "name": "python3",
      "display_name": "Python 3"
    },
    "language_info": {
      "name": "python"
    }
  },
  "cells": [
    {
      "cell_type": "markdown",
      "metadata": {
        "id": "view-in-github",
        "colab_type": "text"
      },
      "source": [
        "<a href=\"https://colab.research.google.com/github/vvsrupesh/Colab-Notebooks/blob/main/OOP_Project.ipynb\" target=\"_parent\"><img src=\"https://colab.research.google.com/assets/colab-badge.svg\" alt=\"Open In Colab\"/></a>"
      ]
    },
    {
      "cell_type": "code",
      "source": [
        "!pip install nlpcloud"
      ],
      "metadata": {
        "colab": {
          "base_uri": "https://localhost:8080/"
        },
        "id": "0C9uhWPBiD2A",
        "outputId": "267cb68e-af49-478b-86d1-9bc7557a7946"
      },
      "execution_count": 1,
      "outputs": [
        {
          "output_type": "stream",
          "name": "stdout",
          "text": [
            "Collecting nlpcloud\n",
            "  Downloading nlpcloud-1.1.47-py3-none-any.whl.metadata (1.1 kB)\n",
            "Requirement already satisfied: requests in /usr/local/lib/python3.11/dist-packages (from nlpcloud) (2.32.3)\n",
            "Requirement already satisfied: charset-normalizer<4,>=2 in /usr/local/lib/python3.11/dist-packages (from requests->nlpcloud) (3.4.1)\n",
            "Requirement already satisfied: idna<4,>=2.5 in /usr/local/lib/python3.11/dist-packages (from requests->nlpcloud) (3.10)\n",
            "Requirement already satisfied: urllib3<3,>=1.21.1 in /usr/local/lib/python3.11/dist-packages (from requests->nlpcloud) (2.3.0)\n",
            "Requirement already satisfied: certifi>=2017.4.17 in /usr/local/lib/python3.11/dist-packages (from requests->nlpcloud) (2025.1.31)\n",
            "Downloading nlpcloud-1.1.47-py3-none-any.whl (3.9 kB)\n",
            "Installing collected packages: nlpcloud\n",
            "Successfully installed nlpcloud-1.1.47\n"
          ]
        }
      ]
    },
    {
      "cell_type": "code",
      "source": [
        "import nlpcloud\n",
        "import os\n",
        "\n",
        "api_key = os.environ.get(\"NLPCLOUD_API_KEY\") or \"1400df67c06e6ae5a78388ad45618a6dc5c21440\"\n",
        "\n",
        "# Use the api_key variable instead of the placeholder\n",
        "client = nlpcloud.Client(\"finetuned-llama-3-70b\", api_key, gpu=True)\n",
        "client.entities(\"\"\" now a Go expert at Google.\"\"\", searched_entity=\"programming languages\")"
      ],
      "metadata": {
        "colab": {
          "base_uri": "https://localhost:8080/"
        },
        "id": "QOpAiiaoQnJK",
        "outputId": "e3415951-5969-41a1-e855-1b55626257af"
      },
      "execution_count": 2,
      "outputs": [
        {
          "output_type": "execute_result",
          "data": {
            "text/plain": [
              "{'entities': [{'start': 7,\n",
              "   'end': 9,\n",
              "   'type': 'programming languages',\n",
              "   'text': 'Go'}]}"
            ]
          },
          "metadata": {},
          "execution_count": 2
        }
      ]
    },
    {
      "cell_type": "code",
      "source": [
        "import nlpcloud\n",
        "\n",
        "client = nlpcloud.Client(\"finetuned-llama-3-70b\", \"1400df67c06e6ae5a78388ad45618a6dc5c21440\", gpu=True)\n",
        "client.sentiment(\n",
        "    \"\"\"My first exposure to Telugu Cinema, is when I saw my wife watching a near naked guy running in the forest, chased by a Tiger, looking so shredded that I thought my wife was appreciating the sweaty,\"\"\",\n",
        "    target=\"NLP Cloud\"\n",
        ")"
      ],
      "metadata": {
        "colab": {
          "base_uri": "https://localhost:8080/",
          "height": 478
        },
        "id": "UtpK3LWy567-",
        "outputId": "829d6d27-fe29-4933-f939-f4e2ecefcb38"
      },
      "execution_count": 11,
      "outputs": [
        {
          "output_type": "error",
          "ename": "HTTPError",
          "evalue": "429 Client Error: Too Many Requests for url: https://api.nlpcloud.io/v1/gpu/finetuned-llama-3-70b/sentiment: Rate limit: maximum number of requests per hour reached. Please contact support to learn how to increase this limit (if you are on the free plan, we encourage you to subscribe to the pay-as-you-go plan which provides a much higher throughput and many free requests). You can change your plan here: https://nlpcloud.com/home/plans.",
          "traceback": [
            "\u001b[0;31m---------------------------------------------------------------------------\u001b[0m",
            "\u001b[0;31mHTTPError\u001b[0m                                 Traceback (most recent call last)",
            "\u001b[0;32m/usr/local/lib/python3.11/dist-packages/nlpcloud/__init__.py\u001b[0m in \u001b[0;36msentiment\u001b[0;34m(self, text, target)\u001b[0m\n\u001b[1;32m    407\u001b[0m         \u001b[0;32mtry\u001b[0m\u001b[0;34m:\u001b[0m\u001b[0;34m\u001b[0m\u001b[0;34m\u001b[0m\u001b[0m\n\u001b[0;32m--> 408\u001b[0;31m             \u001b[0mr\u001b[0m\u001b[0;34m.\u001b[0m\u001b[0mraise_for_status\u001b[0m\u001b[0;34m(\u001b[0m\u001b[0;34m)\u001b[0m\u001b[0;34m\u001b[0m\u001b[0;34m\u001b[0m\u001b[0m\n\u001b[0m\u001b[1;32m    409\u001b[0m         \u001b[0;32mexcept\u001b[0m \u001b[0mHTTPError\u001b[0m \u001b[0;32mas\u001b[0m \u001b[0merr\u001b[0m\u001b[0;34m:\u001b[0m\u001b[0;34m\u001b[0m\u001b[0;34m\u001b[0m\u001b[0m\n",
            "\u001b[0;32m/usr/local/lib/python3.11/dist-packages/requests/models.py\u001b[0m in \u001b[0;36mraise_for_status\u001b[0;34m(self)\u001b[0m\n\u001b[1;32m   1023\u001b[0m         \u001b[0;32mif\u001b[0m \u001b[0mhttp_error_msg\u001b[0m\u001b[0;34m:\u001b[0m\u001b[0;34m\u001b[0m\u001b[0;34m\u001b[0m\u001b[0m\n\u001b[0;32m-> 1024\u001b[0;31m             \u001b[0;32mraise\u001b[0m \u001b[0mHTTPError\u001b[0m\u001b[0;34m(\u001b[0m\u001b[0mhttp_error_msg\u001b[0m\u001b[0;34m,\u001b[0m \u001b[0mresponse\u001b[0m\u001b[0;34m=\u001b[0m\u001b[0mself\u001b[0m\u001b[0;34m)\u001b[0m\u001b[0;34m\u001b[0m\u001b[0;34m\u001b[0m\u001b[0m\n\u001b[0m\u001b[1;32m   1025\u001b[0m \u001b[0;34m\u001b[0m\u001b[0m\n",
            "\u001b[0;31mHTTPError\u001b[0m: 429 Client Error: Too Many Requests for url: https://api.nlpcloud.io/v1/gpu/finetuned-llama-3-70b/sentiment",
            "\nDuring handling of the above exception, another exception occurred:\n",
            "\u001b[0;31mHTTPError\u001b[0m                                 Traceback (most recent call last)",
            "\u001b[0;32m<ipython-input-11-a9cc212c7e58>\u001b[0m in \u001b[0;36m<cell line: 0>\u001b[0;34m()\u001b[0m\n\u001b[1;32m      2\u001b[0m \u001b[0;34m\u001b[0m\u001b[0m\n\u001b[1;32m      3\u001b[0m \u001b[0mclient\u001b[0m \u001b[0;34m=\u001b[0m \u001b[0mnlpcloud\u001b[0m\u001b[0;34m.\u001b[0m\u001b[0mClient\u001b[0m\u001b[0;34m(\u001b[0m\u001b[0;34m\"finetuned-llama-3-70b\"\u001b[0m\u001b[0;34m,\u001b[0m \u001b[0;34m\"1400df67c06e6ae5a78388ad45618a6dc5c21440\"\u001b[0m\u001b[0;34m,\u001b[0m \u001b[0mgpu\u001b[0m\u001b[0;34m=\u001b[0m\u001b[0;32mTrue\u001b[0m\u001b[0;34m)\u001b[0m\u001b[0;34m\u001b[0m\u001b[0;34m\u001b[0m\u001b[0m\n\u001b[0;32m----> 4\u001b[0;31m client.sentiment(\n\u001b[0m\u001b[1;32m      5\u001b[0m     \u001b[0;34m\"\"\"My first exposure to Telugu Cinema, is when I saw my wife watching a near naked guy running in the forest, chased by a Tiger, looking so shredded that I thought my wife was appreciating the sweaty,\"\"\"\u001b[0m\u001b[0;34m,\u001b[0m\u001b[0;34m\u001b[0m\u001b[0;34m\u001b[0m\u001b[0m\n\u001b[1;32m      6\u001b[0m     \u001b[0mtarget\u001b[0m\u001b[0;34m=\u001b[0m\u001b[0;34m\"NLP Cloud\"\u001b[0m\u001b[0;34m\u001b[0m\u001b[0;34m\u001b[0m\u001b[0m\n",
            "\u001b[0;32m/usr/local/lib/python3.11/dist-packages/nlpcloud/__init__.py\u001b[0m in \u001b[0;36msentiment\u001b[0;34m(self, text, target)\u001b[0m\n\u001b[1;32m    408\u001b[0m             \u001b[0mr\u001b[0m\u001b[0;34m.\u001b[0m\u001b[0mraise_for_status\u001b[0m\u001b[0;34m(\u001b[0m\u001b[0;34m)\u001b[0m\u001b[0;34m\u001b[0m\u001b[0;34m\u001b[0m\u001b[0m\n\u001b[1;32m    409\u001b[0m         \u001b[0;32mexcept\u001b[0m \u001b[0mHTTPError\u001b[0m \u001b[0;32mas\u001b[0m \u001b[0merr\u001b[0m\u001b[0;34m:\u001b[0m\u001b[0;34m\u001b[0m\u001b[0;34m\u001b[0m\u001b[0m\n\u001b[0;32m--> 410\u001b[0;31m             \u001b[0;32mraise\u001b[0m \u001b[0mHTTPError\u001b[0m\u001b[0;34m(\u001b[0m\u001b[0mstr\u001b[0m\u001b[0;34m(\u001b[0m\u001b[0merr\u001b[0m\u001b[0;34m)\u001b[0m \u001b[0;34m+\u001b[0m \u001b[0;34m\": \"\u001b[0m \u001b[0;34m+\u001b[0m \u001b[0mstr\u001b[0m\u001b[0;34m(\u001b[0m\u001b[0mr\u001b[0m\u001b[0;34m.\u001b[0m\u001b[0mtext\u001b[0m\u001b[0;34m)\u001b[0m\u001b[0;34m)\u001b[0m\u001b[0;34m\u001b[0m\u001b[0;34m\u001b[0m\u001b[0m\n\u001b[0m\u001b[1;32m    411\u001b[0m \u001b[0;34m\u001b[0m\u001b[0m\n\u001b[1;32m    412\u001b[0m         \u001b[0;32mreturn\u001b[0m \u001b[0mr\u001b[0m\u001b[0;34m.\u001b[0m\u001b[0mjson\u001b[0m\u001b[0;34m(\u001b[0m\u001b[0;34m)\u001b[0m\u001b[0;34m\u001b[0m\u001b[0;34m\u001b[0m\u001b[0m\n",
            "\u001b[0;31mHTTPError\u001b[0m: 429 Client Error: Too Many Requests for url: https://api.nlpcloud.io/v1/gpu/finetuned-llama-3-70b/sentiment: Rate limit: maximum number of requests per hour reached. Please contact support to learn how to increase this limit (if you are on the free plan, we encourage you to subscribe to the pay-as-you-go plan which provides a much higher throughput and many free requests). You can change your plan here: https://nlpcloud.com/home/plans."
          ]
        }
      ]
    },
    {
      "cell_type": "code",
      "source": [
        "\n",
        "import nlpcloud\n",
        "\n",
        "\n",
        "class NLPApp:\n",
        "\n",
        "  def __init__(self):\n",
        "    self.__database = {}\n",
        "    self.__first_menu()\n",
        "\n",
        "  def __first_menu(self):\n",
        "\n",
        "    first_input = input(\"\"\"\n",
        "    Hi! how would you like to proceed\n",
        "    1. Not a member? Register\n",
        "    2. Already a member? Login\n",
        "    3. come back later?\n",
        "    \"\"\")\n",
        "\n",
        "    if first_input =='1':\n",
        "      self.__register()\n",
        "    elif first_input == '2':\n",
        "      self.__login()\n",
        "    else:\n",
        "      exit()\n",
        "\n",
        "\n",
        "  def __second_menu(self):\n",
        "    second_input = input(\"\"\"\n",
        "    Hi! how would you like to proceed\n",
        "    1. NER\n",
        "    2. Language Detection\n",
        "    3. Sentiment Analysis\n",
        "    4. Log out\n",
        "    \"\"\")\n",
        "\n",
        "    if second_input =='1':\n",
        "      self.__ner()\n",
        "    elif second_input == '2':\n",
        "      self.__language_detection()\n",
        "    elif second_input == '3':\n",
        "      self.__sentiment_analysis()\n",
        "    else:\n",
        "      exit()\n",
        "\n",
        "  def __register(self):\n",
        "    name = input('enter your name')\n",
        "    email = input('enter your email')\n",
        "    password = input('enter your password')\n",
        "\n",
        "    if email in self.__database:\n",
        "      print('email already exists')\n",
        "    else:\n",
        "      self.__database[email] = [name, password]\n",
        "      print('registration successful. Now Login')\n",
        "      print(self.__database)\n",
        "      self.__first_menu()\n",
        "\n",
        "\n",
        "  def __login(self):\n",
        "    email = input('enter your email')\n",
        "    password = input('enter your password')\n",
        "\n",
        "    if email in self.__database:\n",
        "      if password == self.__database[email][1]:\n",
        "        print('login successful')\n",
        "        self.__second_menu()\n",
        "      else:\n",
        "          print('password is incorrect')\n",
        "          self.__login()\n",
        "    else:\n",
        "        print('email is not registered')\n",
        "        self.__first_menu()\n",
        "\n",
        "\n",
        "  def __ner(self):\n",
        "    para = input('enter the paragraph')\n",
        "    search_term = input('enter the search term')\n",
        "\n",
        "    client = nlpcloud.Client(\"finetuned-llama-3-70b\", \"1400df67c06e6ae5a78388ad45618a6dc5c21440\" , gpu=True)\n",
        "    response = client.entities(para, searched_entity=search_term)\n",
        "    print(response)\n",
        "\n",
        "\n",
        "\n",
        "\n",
        "  def __sentiment_analysis(self):\n",
        "    para = input('enter the paragraph')\n",
        "    client = nlpcloud.Client(\"distilbert-base-uncased-emotion\", \"1400df67c06e6ae5a78388ad45618a6dc5c21440\", gpu=False)\n",
        "    response = client.sentiment(para)\n",
        "\n",
        "\n",
        "    L = []\n",
        "    for i in response['scored_labels']:\n",
        "      L.append(i['score'])\n",
        "\n",
        "    index = sorted(list(enumerate(L)),key=lambda x:x[1],reverse=True)[0][0]\n",
        "\n",
        "    print(response['scored_labels'][index]['label'])\n",
        "    self.__second_menu()\n",
        "\n",
        "\n",
        "\n",
        "\n",
        "obj = NLPApp()"
      ],
      "metadata": {
        "id": "P8wLOyktQrTF"
      },
      "execution_count": null,
      "outputs": []
    },
    {
      "cell_type": "markdown",
      "source": [],
      "metadata": {
        "id": "6PxBcNZ39pNH"
      }
    },
    {
      "cell_type": "code",
      "source": [
        "\n"
      ],
      "metadata": {
        "id": "2XPIJzBWaPU1"
      },
      "execution_count": 9,
      "outputs": []
    },
    {
      "cell_type": "code",
      "source": [],
      "metadata": {
        "id": "xD_9Ivkh9odD"
      },
      "execution_count": null,
      "outputs": []
    }
  ]
}